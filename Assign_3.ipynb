{
 "cells": [
  {
   "cell_type": "code",
   "execution_count": 420,
   "metadata": {},
   "outputs": [],
   "source": [
    "#Given Data\n",
    "p=[[2,4],[4,2],[6,4],[4,6],[4,4],[6,2]]\n",
    "example_class=[0,0,0,0,1,1]"
   ]
  },
  {
   "cell_type": "code",
   "execution_count": 421,
   "metadata": {},
   "outputs": [],
   "source": [
    "(data, target) = p , example_class"
   ]
  },
  {
   "cell_type": "code",
   "execution_count": 422,
   "metadata": {},
   "outputs": [
    {
     "data": {
      "text/plain": [
       "array([[2, 4],\n",
       "       [4, 2],\n",
       "       [6, 4],\n",
       "       [4, 6],\n",
       "       [4, 4],\n",
       "       [6, 2]])"
      ]
     },
     "execution_count": 422,
     "metadata": {},
     "output_type": "execute_result"
    }
   ],
   "source": [
    "data = np.array(data)\n",
    "data"
   ]
  },
  {
   "cell_type": "code",
   "execution_count": 423,
   "metadata": {},
   "outputs": [
    {
     "data": {
      "text/plain": [
       "array([0, 0, 0, 0, 1, 1])"
      ]
     },
     "execution_count": 423,
     "metadata": {},
     "output_type": "execute_result"
    }
   ],
   "source": [
    "target = np.array(target)\n",
    "target"
   ]
  },
  {
   "cell_type": "code",
   "execution_count": 424,
   "metadata": {},
   "outputs": [
    {
     "data": {
      "text/plain": [
       "(array([[2, 4],\n",
       "        [4, 2],\n",
       "        [6, 4],\n",
       "        [4, 6],\n",
       "        [4, 4],\n",
       "        [6, 2]]), array([0, 0, 0, 0, 1, 1]))"
      ]
     },
     "execution_count": 424,
     "metadata": {},
     "output_type": "execute_result"
    }
   ],
   "source": [
    "(data, target)"
   ]
  },
  {
   "cell_type": "code",
   "execution_count": 425,
   "metadata": {
    "collapsed": true
   },
   "outputs": [],
   "source": [
    "# Load the required Libraries\n",
    "import numpy as np\n",
    "import matplotlib.pyplot as plt\n",
    "import pandas as pd\n",
    "import math\n",
    "from collections import Counter"
   ]
  },
  {
   "cell_type": "code",
   "execution_count": 426,
   "metadata": {},
   "outputs": [
    {
     "data": {
      "image/png": "[encoded data removed]",
      "text/plain": [
       "<Figure size 432x288 with 1 Axes>"
      ]
     },
     "metadata": {},
     "output_type": "display_data"
    }
   ],
   "source": [
    "plt.scatter(data[:,0],data[:,1],marker='o',c=target)\n",
    "plt.show()"
   ]
  },
  {
   "cell_type": "code",
   "execution_count": 427,
   "metadata": {},
   "outputs": [
    {
     "data": {
      "text/plain": [
       "array([[6, 6]])"
      ]
     },
     "execution_count": 427,
     "metadata": {},
     "output_type": "execute_result"
    }
   ],
   "source": [
    "#Test Data\n",
    "new_data = np.array([[6,6]])\n",
    "new_data"
   ]
  },
  {
   "cell_type": "code",
   "execution_count": 428,
   "metadata": {},
   "outputs": [
    {
     "data": {
      "image/png": "[encoded data removed]",
      "text/plain": [
       "<Figure size 432x288 with 1 Axes>"
      ]
     },
     "metadata": {},
     "output_type": "display_data"
    }
   ],
   "source": [
    "plt.scatter(data[:,0],data[:,1],marker='o',c=target)\n",
    "plt.scatter(new_data[:,0],new_data[:,1],marker='o')\n",
    "plt.show()"
   ]
  },
  {
   "cell_type": "code",
   "execution_count": 429,
   "metadata": {},
   "outputs": [],
   "source": [
    "#Calculate the Euclidean Distance\n",
    "def euclidean_distance(point, k):\n",
    "    edistance = np.sqrt(np.sum((data - point)**2 , axis=1))\n",
    "    return np.argsort(edistance)[0:k]"
   ]
  },
  {
   "cell_type": "code",
   "execution_count": 430,
   "metadata": {},
   "outputs": [],
   "source": [
    "def predict(prediction_points,k):\n",
    "    points_labels=[]\n",
    "    \n",
    "    for point in prediction_points:\n",
    "        distances=euclidean_distance(point,k)\n",
    "        \n",
    "        results=[]\n",
    "        for index in distances:\n",
    "            results.append(target[index])\n",
    "        \n",
    "        label=Counter(results).most_common(1)\n",
    "        points_labels.append([point,label[0][0]])\n",
    "        \n",
    "    return points_labels"
   ]
  },
  {
   "cell_type": "code",
   "execution_count": 431,
   "metadata": {},
   "outputs": [
    {
     "name": "stdout",
     "output_type": "stream",
     "text": [
      "Point =  [6 6]\n",
      "Class =  0\n",
      "\n"
     ]
    }
   ],
   "source": [
    "#for k=1\n",
    "results=predict(new_data,1)\n",
    "for result in results:\n",
    "    print(\"Point = \",result[0])\n",
    "    print(\"Class = \",result[1])\n",
    "    print()"
   ]
  },
  {
   "cell_type": "code",
   "execution_count": 432,
   "metadata": {},
   "outputs": [
    {
     "name": "stdout",
     "output_type": "stream",
     "text": [
      "Point =  [6 6]\n",
      "Class =  0\n",
      "\n"
     ]
    }
   ],
   "source": [
    "#for k=2\n",
    "results=predict(new_data,2)\n",
    "for result in results:\n",
    "    print(\"Point = \",result[0])\n",
    "    print(\"Class = \",result[1])\n",
    "    print()"
   ]
  },
  {
   "cell_type": "code",
   "execution_count": 433,
   "metadata": {},
   "outputs": [
    {
     "name": "stdout",
     "output_type": "stream",
     "text": [
      "Point =  [6 6]\n",
      "Class =  0\n",
      "\n"
     ]
    }
   ],
   "source": [
    "#for k=3\n",
    "results=predict(new_data,3)\n",
    "for result in results:\n",
    "    print(\"Point = \",result[0])\n",
    "    print(\"Class = \",result[1])\n",
    "    print()"
   ]
  },
  {
   "cell_type": "code",
   "execution_count": 434,
   "metadata": {},
   "outputs": [
    {
     "name": "stdout",
     "output_type": "stream",
     "text": [
      "Point =  [6 6]\n",
      "Class =  0\n",
      "\n"
     ]
    }
   ],
   "source": [
    "#for k=4\n",
    "results=predict(new_data,4)\n",
    "for result in results:\n",
    "    print(\"Point = \",result[0])\n",
    "    print(\"Class = \",result[1])\n",
    "    print()"
   ]
  },
  {
   "cell_type": "code",
   "execution_count": 435,
   "metadata": {},
   "outputs": [
    {
     "name": "stdout",
     "output_type": "stream",
     "text": [
      "[0, 0, 0, 0, 1, 1]\n"
     ]
    }
   ],
   "source": [
    "#testing using the given data for k =1\n",
    "results=predict(X,1)\n",
    "predictions=[]\n",
    "for result in results:\n",
    "    predictions.append(result[1])\n",
    "print(predictions)  "
   ]
  },
  {
   "cell_type": "code",
   "execution_count": 436,
   "metadata": {},
   "outputs": [
    {
     "name": "stdout",
     "output_type": "stream",
     "text": [
      "[0, 0, 0, 0, 1, 1]\n"
     ]
    }
   ],
   "source": [
    "#testing using the given data for k =2\n",
    "results=predict(X,2)\n",
    "predictions=[]\n",
    "for result in results:\n",
    "    predictions.append(result[1])\n",
    "print(predictions) "
   ]
  },
  {
   "cell_type": "code",
   "execution_count": 437,
   "metadata": {},
   "outputs": [
    {
     "name": "stdout",
     "output_type": "stream",
     "text": [
      "[0, 1, 1, 0, 0, 0]\n"
     ]
    }
   ],
   "source": [
    "#testing using the given data for k =3\n",
    "results=predict(X,3)\n",
    "predictions=[]\n",
    "for result in results:\n",
    "    predictions.append(result[1])\n",
    "print(predictions) "
   ]
  },
  {
   "cell_type": "code",
   "execution_count": 438,
   "metadata": {},
   "outputs": [
    {
     "name": "stdout",
     "output_type": "stream",
     "text": [
      "[0, 0, 0, 0, 0, 1]\n"
     ]
    }
   ],
   "source": [
    "#testing using the given data for k =4\n",
    "results=predict(X,4)\n",
    "predictions=[]\n",
    "for result in results:\n",
    "    predictions.append(result[1])\n",
    "print(predictions) "
   ]
  },
  {
   "cell_type": "code",
   "execution_count": 439,
   "metadata": {},
   "outputs": [
    {
     "data": {
      "text/plain": [
       "array([0, 0, 0, 0, 1, 1])"
      ]
     },
     "execution_count": 439,
     "metadata": {},
     "output_type": "execute_result"
    }
   ],
   "source": [
    "target"
   ]
  },
  {
   "cell_type": "code",
   "execution_count": 440,
   "metadata": {},
   "outputs": [],
   "source": [
    "#Calculating the accuracy\n",
    "def get_accuracy(predictions):\n",
    "    error=np.sum((predictions-target)**2)\n",
    "    accuracy=100-(error/len(target))*100\n",
    "    return accuracy"
   ]
  },
  {
   "cell_type": "code",
   "execution_count": 441,
   "metadata": {},
   "outputs": [],
   "source": [
    "#for different K values \n",
    "acc=[]\n",
    "for k in range(1,6):\n",
    "    results=predict(data,k)\n",
    "    predictions=[]\n",
    "    for result in results:\n",
    "        predictions.append(result[1])\n",
    "    acc.append([get_accuracy(predictions),k])"
   ]
  },
  {
   "cell_type": "code",
   "execution_count": 442,
   "metadata": {},
   "outputs": [
    {
     "data": {
      "image/png": "[encoded data removed]",
      "text/plain": [
       "<Figure size 432x288 with 1 Axes>"
      ]
     },
     "metadata": {},
     "output_type": "display_data"
    }
   ],
   "source": [
    "plotx=[]\n",
    "ploty=[]\n",
    "for a in acc:\n",
    "    plotx.append(a[1])\n",
    "    ploty.append(a[0])\n",
    "    \n",
    "plt.plot(plotx,ploty)\n",
    "plt.xlabel(\"k values\")\n",
    "plt.ylabel(\"accuracy\")\n",
    "plt.show()"
   ]
  },
  {
   "cell_type": "code",
   "execution_count": null,
   "metadata": {
    "collapsed": true
   },
   "outputs": [],
   "source": []
  }
 ],
 "metadata": {
  "kernelspec": {
   "display_name": "Python 3",
   "language": "python",
   "name": "python3"
  },
  "language_info": {
   "codemirror_mode": {
    "name": "ipython",
    "version": 3
   },
   "file_extension": ".py",
   "mimetype": "text/x-python",
   "name": "python",
   "nbconvert_exporter": "python",
   "pygments_lexer": "ipython3",
   "version": "3.6.3"
  }
 },
 "nbformat": 4,
 "nbformat_minor": 2
}
